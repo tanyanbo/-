{
 "cells": [
  {
   "cell_type": "code",
   "execution_count": 1,
   "id": "21b39b11",
   "metadata": {},
   "outputs": [],
   "source": [
    "from scipy.stats import rankdata\n",
    "import scipy as sp\n",
    "import numpy as np\n",
    "import pandas as pd"
   ]
  },
  {
   "cell_type": "markdown",
   "id": "2c8e3eaa",
   "metadata": {},
   "source": [
    "### 读取数据"
   ]
  },
  {
   "cell_type": "code",
   "execution_count": null,
   "id": "a200b961",
   "metadata": {},
   "outputs": [],
   "source": [
    "df = pd.read_csv('./alldata.csv')"
   ]
  },
  {
   "cell_type": "code",
   "execution_count": null,
   "id": "be8f1802",
   "metadata": {},
   "outputs": [],
   "source": [
    "df.dtypes"
   ]
  },
  {
   "cell_type": "code",
   "execution_count": null,
   "id": "932f3902",
   "metadata": {
    "scrolled": true
   },
   "outputs": [],
   "source": [
    "df = df.loc[df['Trddt']>='2017-01-03']"
   ]
  },
  {
   "cell_type": "markdown",
   "id": "8c2d65ac",
   "metadata": {},
   "source": [
    "### 辅助函数"
   ]
  },
  {
   "cell_type": "code",
   "execution_count": null,
   "id": "3d21e8b2",
   "metadata": {},
   "outputs": [],
   "source": [
    "def get_data(column):\n",
    "    df_res = df.pivot(index=['Trddt'], columns='Stkcd', values=[column])\n",
    "    df_res = df_res[column]\n",
    "    df_res = df_res.reset_index()\n",
    "    df_res.fillna(df_res.mean(), inplace=True)\n",
    "    df_res = df_res.set_index('Trddt')\n",
    "    def change_extreme(row):\n",
    "        m=row.mean()\n",
    "        sd=row.std()\n",
    "        row=row.apply(lambda x:x if m-3*sd<=x<=m+3*sd else (m+3*sd if x>m+3*sd else m-3*sd))\n",
    "        return row\n",
    "    df_res = df_res.apply(change_extreme, axis=1)\n",
    "    df_res = df_res.apply(lambda row: (row-row.mean())/row.std(), axis=1)\n",
    "    return df_res\n",
    "                    "
   ]
  },
  {
   "cell_type": "code",
   "execution_count": null,
   "id": "398d3116",
   "metadata": {},
   "outputs": [],
   "source": [
    "import statsmodels.api as sm \n",
    "def compute_IC_t(df,return_nextday):#df为因子值矩阵\n",
    "    \n",
    "    #行列对齐\n",
    "    return_nextday=return_nextday[df.columns.tolist()]\n",
    "    return_nextday=return_nextday.loc[df.index.tolist()]\n",
    "    \n",
    "    #建立新的dataframe，用于存储结果\n",
    "    result=pd.DataFrame(np.nan,index=df.index,columns=[\"factor_return\",\"tvalue\",\"IC\"])\n",
    "\n",
    "    #T+1期收益率对T期因子值逐行做回归\n",
    "    for date in df.index.tolist():\n",
    "        x=df.loc[date]\n",
    "        y=return_nextday.loc[date]\n",
    "        model=sm.OLS(y,x).fit()\n",
    "        result.loc[date,\"factor_return\"]=model.params[date]\n",
    "        result.loc[date,\"tvalue\"]=model.tvalues[date]\n",
    "        result.loc[date,\"IC\"]=return_nextday.loc[date].corr(df.loc[date])\n",
    "    \n",
    "    return result"
   ]
  },
  {
   "cell_type": "code",
   "execution_count": null,
   "id": "96e23a61",
   "metadata": {},
   "outputs": [],
   "source": [
    "df_high = get_data('Hiprc')\n",
    "df_low = get_data('Loprc')\n",
    "df_open = get_data('Opnprc')\n",
    "df_close = get_data('Clsprc')\n",
    "df_volume = get_data('Dnshrtrd')\n",
    "df_value = get_data('Dnvaltrd')\n",
    "df_marketcap = get_data('Dsmvosd')\n",
    "df_low"
   ]
  },
  {
   "cell_type": "code",
   "execution_count": null,
   "id": "45b4c89e",
   "metadata": {},
   "outputs": [],
   "source": [
    "df_high"
   ]
  },
  {
   "cell_type": "code",
   "execution_count": null,
   "id": "e653b700",
   "metadata": {},
   "outputs": [],
   "source": [
    "df_return = df_close / df_close.shift(1) - 1\n",
    "df_return"
   ]
  },
  {
   "cell_type": "markdown",
   "id": "d71cf429",
   "metadata": {},
   "source": [
    "### 因子"
   ]
  },
  {
   "cell_type": "code",
   "execution_count": null,
   "id": "c06a4960",
   "metadata": {},
   "outputs": [],
   "source": [
    "simple_factors = [df_high, df_low, df_open, df_close, df_volume, df_value, df_marketcap]"
   ]
  },
  {
   "cell_type": "markdown",
   "id": "29f556c0",
   "metadata": {},
   "source": [
    "### 因子回归结果"
   ]
  },
  {
   "cell_type": "code",
   "execution_count": null,
   "id": "de42a1b8",
   "metadata": {},
   "outputs": [],
   "source": [
    "res = []\n",
    "for i in simple_factors:\n",
    "    res.append(compute_IC_t(i.shift(2)[2:], df_return))\n",
    "res[0]"
   ]
  },
  {
   "cell_type": "code",
   "execution_count": null,
   "id": "e29d8f2d",
   "metadata": {},
   "outputs": [],
   "source": [
    "res[1]"
   ]
  },
  {
   "cell_type": "markdown",
   "id": "69857c2c",
   "metadata": {},
   "source": [
    "# 其他因子"
   ]
  },
  {
   "cell_type": "markdown",
   "id": "f6cc2ddc",
   "metadata": {},
   "source": [
    "<ol>\n",
    "    <li>\n",
    "        收益率比五天前收益率 <b>(不显著)</b>\n",
    "        <code>((df_return / df_return.shift(5)) - 1).shift(2)[8:]</code>\n",
    "    </li>\n",
    "    <li>\n",
    "        五日反转因子\n",
    "        <code>((df_close / df_close.shift(5)) - 1)[5:]</code>\n",
    "    </li>\n",
    "    <li>\n",
    "        二十日反转因子\n",
    "        <code>((df_close / df_close.shift(20)) - 1)[20:]</code>\n",
    "    </li>\n",
    "    <li>\n",
    "        开/收 开/高 等等（6个）\n",
    "        <pre>\n",
    "            <code>\n",
    "            price = [df_high, df_low, df_open, df_close]\n",
    "            res = []\n",
    "            for i in range(4):\n",
    "                for j in range(i+1, 4):\n",
    "                    res.append(get_t_value(price[i]/price[j]))\n",
    "            </code>\n",
    "        </pre>\n",
    "    </li>\n",
    "    <li>\n",
    "        单个数据因子（7个）\n",
    "    </li>\n",
    "    <li>\n",
    "        成交额比市值 <code>df_value/df_marketcap</code>\n",
    "    </li>\n",
    "    <li>\n",
    "        rolling 最大值比最小值 <code>df_high.rolling(20).max() / df_high.rolling(20).min()</code>\n",
    "    </li>\n",
    "</ol>"
   ]
  },
  {
   "cell_type": "code",
   "execution_count": null,
   "id": "7c29a927",
   "metadata": {},
   "outputs": [],
   "source": [
    "df_return = df_return.tail(1236)"
   ]
  },
  {
   "cell_type": "code",
   "execution_count": null,
   "id": "7d3a33ac",
   "metadata": {},
   "outputs": [],
   "source": [
    "def get_t_value(df):\n",
    "    df_res = compute_IC_t(df, df_return)\n",
    "    one = df_res['factor_return'].mean()\n",
    "    two = abs(df_res['tvalue']).mean()\n",
    "    three = len(df_res[df_res['tvalue'] > 2]) / len(df_res)\n",
    "    four = df_res[df_res['tvalue']>0].mean()['tvalue']\n",
    "    five = df_res[df_res['tvalue']<0].mean()['tvalue']\n",
    "    six = df_res[df_res['IC']>0].mean()['IC']\n",
    "    seven = df_res[df_res['IC']<0].mean()['IC']\n",
    "    df_res = pd.DataFrame(data={'平均收益率':[one],'t值绝对值均值':[two],'t值大于2的占比':[three],'正t值均值':[four]\n",
    "                                ,'负t值均值':[five],'正ic值均值':[six],'负ic值均值':[seven]})\n",
    "    return df_res"
   ]
  },
  {
   "cell_type": "code",
   "execution_count": null,
   "id": "759e35b2",
   "metadata": {},
   "outputs": [],
   "source": [
    "from math import sqrt\n",
    "def choose(df, rev: bool = True, top: int = 100):\n",
    "    \"\"\"\n",
    "    df: 因子值矩阵\n",
    "    返回每天收益率序列\n",
    "    \"\"\"\n",
    "    df = df.shift(1)\n",
    "    df_rank = df.rank(ascending=rev)\n",
    "    return df_return.shift(-1)[df_rank<=top].mean(axis=1)\n",
    "\n",
    "def MaxDrawdown(return_list):\n",
    "    '''最大回撤率'''\n",
    "    i = np.argmax((np.maximum.accumulate(return_list) - return_list) / np.maximum.accumulate(return_list))  # 结束位置\n",
    "    if i == 0:\n",
    "        return 0\n",
    "    j = np.argmax(return_list[:i])  # 开始位置\n",
    "    return (return_list[j] - return_list[i]) / (return_list[j]) \n",
    "\n",
    "def evaluate(df):\n",
    "    sharpe = df.mean() / df.std() * sqrt(250)\n",
    "    total = df.sum()\n",
    "    max_drawdown = MaxDrawdown(list(df.dropna()))\n",
    "    return sharpe, total, max_drawdown\n",
    "\n",
    "def all_choose(df, rev: bool = True, top: int = 100):\n",
    "    df_c = choose(df, rev, top)\n",
    "    s, t, m = evaluate(df_c)\n",
    "    df_res = pd.DataFrame(data={'夏普':[s],'累计收益率':[t],'最大回撤':[m]})\n",
    "    return df_res"
   ]
  },
  {
   "cell_type": "code",
   "execution_count": null,
   "id": "1154682a",
   "metadata": {},
   "outputs": [],
   "source": [
    "df_reverse20 = ((df_close / df_close.shift(20)) - 1)[20:]\n",
    "df_reverse20"
   ]
  },
  {
   "cell_type": "code",
   "execution_count": null,
   "id": "ffbf0643",
   "metadata": {},
   "outputs": [],
   "source": [
    "all_choose(df_reverse20, False)"
   ]
  },
  {
   "cell_type": "code",
   "execution_count": null,
   "id": "12561b42",
   "metadata": {},
   "outputs": [],
   "source": [
    "df_rolling = df_high.rolling(20).max() / df_high.rolling(20).min()"
   ]
  },
  {
   "cell_type": "code",
   "execution_count": null,
   "id": "c330e0cf",
   "metadata": {},
   "outputs": [],
   "source": [
    "all_choose(df_rolling)"
   ]
  },
  {
   "cell_type": "code",
   "execution_count": null,
   "id": "f0a510e3",
   "metadata": {},
   "outputs": [],
   "source": []
  }
 ],
 "metadata": {
  "kernelspec": {
   "display_name": "Python 3",
   "language": "python",
   "name": "python3"
  },
  "language_info": {
   "codemirror_mode": {
    "name": "ipython",
    "version": 3
   },
   "file_extension": ".py",
   "mimetype": "text/x-python",
   "name": "python",
   "nbconvert_exporter": "python",
   "pygments_lexer": "ipython3",
   "version": "3.8.8"
  }
 },
 "nbformat": 4,
 "nbformat_minor": 5
}
